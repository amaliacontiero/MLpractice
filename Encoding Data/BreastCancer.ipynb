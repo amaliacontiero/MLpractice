{
 "cells": [
  {
   "cell_type": "code",
   "execution_count": 23,
   "metadata": {},
   "outputs": [],
   "source": [
    "import pandas as pd\n",
    "import numpy as np\n",
    "from sklearn.model_selection import train_test_split"
   ]
  },
  {
   "cell_type": "code",
   "execution_count": 24,
   "metadata": {},
   "outputs": [],
   "source": [
    "def load_dataset(filename):\n",
    "    data = pd.read_csv(filename, header=None)\n",
    "    dataset = data.values\n",
    "    #split to input x and output y\n",
    "    x = dataset[:,:-1]\n",
    "    y = dataset[:,-1]\n",
    "\n",
    "    x = x.astype(str) #format values as string\n",
    "    y = y.reshape((len(y),1)) #reshape target to 2d array\n",
    "\n",
    "    return x, y\n",
    "    "
   ]
  },
  {
   "cell_type": "code",
   "execution_count": 26,
   "metadata": {},
   "outputs": [],
   "source": [
    "x, y = load_dataset('breast-cancer.csv')\n",
    "#split intro train and test sets\n",
    "x_train, x_test, y_train, y_test = train_test_split(x, y, test_size=0.33, random_state=1)"
   ]
  },
  {
   "cell_type": "code",
   "execution_count": 27,
   "metadata": {},
   "outputs": [
    {
     "name": "stdout",
     "output_type": "stream",
     "text": [
      "Train (191, 9) (191, 1)\n",
      "Test (95, 9) (95, 1)\n"
     ]
    }
   ],
   "source": [
    "print('Train', x_train.shape, y_train.shape)\n",
    "print('Test', x_test.shape, y_test.shape)"
   ]
  },
  {
   "attachments": {},
   "cell_type": "markdown",
   "metadata": {},
   "source": [
    "We have 191 samples for training and 95 for testing."
   ]
  }
 ],
 "metadata": {
  "kernelspec": {
   "display_name": ".venv",
   "language": "python",
   "name": "python3"
  },
  "language_info": {
   "codemirror_mode": {
    "name": "ipython",
    "version": 3
   },
   "file_extension": ".py",
   "mimetype": "text/x-python",
   "name": "python",
   "nbconvert_exporter": "python",
   "pygments_lexer": "ipython3",
   "version": "3.11.2"
  },
  "orig_nbformat": 4,
  "vscode": {
   "interpreter": {
    "hash": "627057e68e4776255eeec8f238c52d7f9c5a467746a4c0bf108674f3d190852b"
   }
  }
 },
 "nbformat": 4,
 "nbformat_minor": 2
}
